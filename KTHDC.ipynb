{
  "nbformat": 4,
  "nbformat_minor": 0,
  "metadata": {
    "colab": {
      "provenance": []
    },
    "kernelspec": {
      "name": "python3",
      "display_name": "Python 3"
    },
    "language_info": {
      "name": "python"
    }
  },
  "cells": [
    {
      "cell_type": "markdown",
      "source": [
        "Tỉ lệ thất nghiệp qua từng năm"
      ],
      "metadata": {
        "id": "q0x6XBEpPe8f"
      }
    },
    {
      "cell_type": "code",
      "source": [
        "import pandas as pd\n",
        "\n",
        "# Đường dẫn đến file Excel\n",
        "file_path = \"stat.xlsx\"\n",
        "\n",
        "# Đọc sheet cụ thể, ví dụ sheet tên là \"SinhVien\"\n",
        "df = pd.read_excel(file_path, sheet_name=\"Inflation Rate\")\n",
        "\n",
        "print(df.head())  # Xem 5 dòng đầu tiên"
      ],
      "metadata": {
        "colab": {
          "base_uri": "https://localhost:8080/"
        },
        "id": "H4eWp1hHP8HF",
        "outputId": "981be060-f1ea-46a6-fb05-5297502bb5e4"
      },
      "execution_count": 1,
      "outputs": [
        {
          "output_type": "stream",
          "name": "stdout",
          "text": [
            "        Date  Inflation Rate (%)  Unnamed: 2  \\\n",
            "0 2015-01-01                0.94         NaN   \n",
            "1 2015-02-01                0.34         NaN   \n",
            "2 2015-03-01                0.03         NaN   \n",
            "3 2015-04-01                0.99         NaN   \n",
            "4 2015-05-01                0.95         NaN   \n",
            "\n",
            "                                          Unnamed: 3  \n",
            "0  Nguồn: https://tradingeconomics.com/vietnam/in...  \n",
            "1                                                NaN  \n",
            "2                                                NaN  \n",
            "3                                                NaN  \n",
            "4                                                NaN  \n"
          ]
        }
      ]
    },
    {
      "cell_type": "code",
      "source": [
        "inflation_by_months = []"
      ],
      "metadata": {
        "id": "KqCI7FpQRfNB"
      },
      "execution_count": 10,
      "outputs": []
    },
    {
      "cell_type": "code",
      "source": [
        "for i in range(0, 10*12, 12):\n",
        "  df_year = df.iloc[i:i+12, 1]\n",
        "  inflation_by_months.append(df_year)"
      ],
      "metadata": {
        "id": "gBw0QVSyQltk"
      },
      "execution_count": 13,
      "outputs": []
    },
    {
      "cell_type": "code",
      "source": [
        "from functools import reduce\n",
        "\n",
        "inflation_by_years = list(map(lambda x: reduce(lambda acc, e: acc * (1+e/100), x, 1), inflation_by_months))"
      ],
      "metadata": {
        "id": "oa8l5jLtSc6D"
      },
      "execution_count": 19,
      "outputs": []
    },
    {
      "cell_type": "code",
      "source": [
        "inflation_by_years"
      ],
      "metadata": {
        "colab": {
          "base_uri": "https://localhost:8080/"
        },
        "id": "AF6pOuQATogw",
        "outputId": "22b9f0f0-0891-4e35-c336-46e152b4a178"
      },
      "execution_count": 20,
      "outputs": [
        {
          "output_type": "execute_result",
          "data": {
            "text/plain": [
              "[1.0690010402073449,\n",
              " 1.369964024132872,\n",
              " 1.5159911077514212,\n",
              " 1.5178560095594011,\n",
              " 1.3915344164927008,\n",
              " 1.4645494460494344,\n",
              " 1.243874618992762,\n",
              " 1.4505587297123428,\n",
              " 1.4674434974222954,\n",
              " 1.5333212324409642]"
            ]
          },
          "metadata": {},
          "execution_count": 20
        }
      ]
    },
    {
      "cell_type": "markdown",
      "source": [
        "πt​−πt−1​=α−bUt​+εt​"
      ],
      "metadata": {
        "id": "ZmuMNXSRUEVK"
      }
    },
    {
      "cell_type": "code",
      "source": [
        "import io\n",
        "import pandas as pd\n",
        "pd.read_csv(io.StringIO('''\n",
        "\"2,1425\"\n",
        "\"2,09\"\n",
        "\"2,0425\"\n",
        "2\n",
        "\"1,9875\"\n",
        "\"2,245\"\n",
        "\"2,90\"\n",
        "\"2,13\"\n",
        "\"2,07\"\n",
        "\"2,05\"\n",
        "'''), header=None)\n"
      ],
      "metadata": {
        "id": "0UFsfS1WWpkD"
      },
      "execution_count": null,
      "outputs": []
    },
    {
      "cell_type": "code",
      "source": [
        "unemployment_rate_percent = [2.14, 2.09, 2.04, 2.00, 1.99, 2.25, 2.90, 2.13, 2.07, 2.05]\n",
        "unemployment_rate = [x/100 for x in unemployment_rate_percent]"
      ],
      "metadata": {
        "id": "Bv8BX3bzbWoR"
      },
      "execution_count": 31,
      "outputs": []
    },
    {
      "cell_type": "code",
      "source": [
        "import pandas as pd\n",
        "import statsmodels.api as sm\n",
        "\n",
        "# Dữ liệu giả định\n",
        "data = {\n",
        "    \"inflation_t\": inflation_by_years[1:],\n",
        "    \"inflation_t_1\": inflation_by_years[:-1],\n",
        "    \"unemployment\": unemployment_rate[1:]\n",
        "}\n",
        "df = pd.DataFrame(data)\n",
        "\n",
        "# Tạo biến thay đổi lạm phát\n",
        "df[\"delta_inflation\"] = df[\"inflation_t\"] - df[\"inflation_t_1\"]\n",
        "\n",
        "# Hồi quy (π_t - π_{t-1}) = α - b * U_t + ε_t\n",
        "X = sm.add_constant(df[\"unemployment\"])\n",
        "y = df[\"delta_inflation\"]\n",
        "\n",
        "model = sm.OLS(y, X).fit()\n",
        "print(model.summary())\n"
      ],
      "metadata": {
        "colab": {
          "base_uri": "https://localhost:8080/"
        },
        "id": "PnXbWXTEUFYy",
        "outputId": "1858a33f-55fa-412b-ef8e-f25c7c226f58"
      },
      "execution_count": 39,
      "outputs": [
        {
          "output_type": "stream",
          "name": "stdout",
          "text": [
            "                            OLS Regression Results                            \n",
            "==============================================================================\n",
            "Dep. Variable:        delta_inflation   R-squared:                       0.280\n",
            "Model:                            OLS   Adj. R-squared:                  0.177\n",
            "Method:                 Least Squares   F-statistic:                     2.721\n",
            "Date:                Sat, 11 Oct 2025   Prob (F-statistic):              0.143\n",
            "Time:                        04:10:38   Log-Likelihood:                 5.7199\n",
            "No. Observations:                   9   AIC:                            -7.440\n",
            "Df Residuals:                       7   BIC:                            -7.045\n",
            "Df Model:                           1                                         \n",
            "Covariance Type:            nonrobust                                         \n",
            "================================================================================\n",
            "                   coef    std err          t      P>|t|      [0.025      0.975]\n",
            "--------------------------------------------------------------------------------\n",
            "const            0.6965      0.394      1.768      0.120      -0.235       1.628\n",
            "unemployment   -29.7338     18.026     -1.649      0.143     -72.359      12.891\n",
            "==============================================================================\n",
            "Omnibus:                        0.099   Durbin-Watson:                   1.633\n",
            "Prob(Omnibus):                  0.952   Jarque-Bera (JB):                0.105\n",
            "Skew:                           0.052   Prob(JB):                        0.949\n",
            "Kurtosis:                       2.480   Cond. No.                         372.\n",
            "==============================================================================\n",
            "\n",
            "Notes:\n",
            "[1] Standard Errors assume that the covariance matrix of the errors is correctly specified.\n"
          ]
        }
      ]
    },
    {
      "cell_type": "code",
      "source": [
        "alpha = model.params['const']         # hệ số chặn α\n",
        "beta = model.params['unemployment']   # hệ số dốc β\n",
        "\n",
        "print(\"alpha =\", alpha)\n",
        "print(\"beta  =\", beta)\n",
        "\n",
        "nairu = alpha / beta\n",
        "print(nairu)"
      ],
      "metadata": {
        "colab": {
          "base_uri": "https://localhost:8080/"
        },
        "id": "Q4doGL_1XgMO",
        "outputId": "69b1335f-695b-4e25-ae8d-bd900f32bcdb"
      },
      "execution_count": 38,
      "outputs": [
        {
          "output_type": "stream",
          "name": "stdout",
          "text": [
            "alpha = 0.5172496942182111\n",
            "beta  = -21.469913195339558\n",
            "-0.024091839101170177\n"
          ]
        }
      ]
    },
    {
      "cell_type": "markdown",
      "source": [
        "Okun Law"
      ],
      "metadata": {
        "id": "I-mE14ClbRkn"
      }
    },
    {
      "cell_type": "code",
      "source": [
        "import io\n",
        "import pandas as pd\n",
        "pd.read_csv(io.StringIO('''\n",
        "-0.2,0.6,0.8,-0.3,0.4,-0.4,-1.9,0.0,-0.6,-0.3,-0.2\n",
        "'''), header=None)\n"
      ],
      "metadata": {
        "id": "eIPfgLGHcCUe"
      },
      "execution_count": null,
      "outputs": []
    },
    {
      "cell_type": "code",
      "source": [
        "import numpy as np\n",
        "import pandas as pd\n",
        "import statsmodels.api as sm\n",
        "\n",
        "unemployment_t = np.array(unemployment_rate[1:])\n",
        "unemployment_t_1 = np.array(unemployment_rate[:-1])\n",
        "gap = np.array([-0.2,0.6,0.8,-0.3,0.4,-0.4,-1.9,0.0,-0.6,-0.3])\n",
        "\n",
        "# 1. Tính Δu_t\n",
        "du = unemployment_t - unemployment_t_1   # Δu_t = u_t - u_{t-1}\n",
        "\n",
        "# 2. Cắt gap tương ứng (bỏ năm đầu tiên)\n",
        "gap = gap[1:]\n",
        "\n",
        "# 3. Tạo DataFrame cho rõ ràng\n",
        "df = pd.DataFrame({\n",
        "    \"du\": du,\n",
        "    \"gap\": gap\n",
        "})\n",
        "\n",
        "# 4. Hồi quy OLS: Δu_t = α + β * gap_t\n",
        "X = sm.add_constant(df[\"gap\"])   # thêm cột constant (α)\n",
        "y = df[\"du\"]\n",
        "model = sm.OLS(y, X).fit()\n",
        "\n",
        "# 5. In kết quả\n",
        "print(model.summary())\n",
        "\n",
        "# 6. (Tùy chọn) In riêng hệ số\n",
        "print(f\"\\nα = {model.params['const']:.4f}\")\n",
        "print(f\"β = {model.params['gap']:.4f}\")\n"
      ],
      "metadata": {
        "colab": {
          "base_uri": "https://localhost:8080/"
        },
        "id": "b9AeBD5UbS_Y",
        "outputId": "ebf4e93a-aace-4178-eb88-7d354bfad62d"
      },
      "execution_count": 41,
      "outputs": [
        {
          "output_type": "stream",
          "name": "stdout",
          "text": [
            "                            OLS Regression Results                            \n",
            "==============================================================================\n",
            "Dep. Variable:                     du   R-squared:                       0.336\n",
            "Model:                            OLS   Adj. R-squared:                  0.242\n",
            "Method:                 Least Squares   F-statistic:                     3.550\n",
            "Date:                Sat, 11 Oct 2025   Prob (F-statistic):              0.102\n",
            "Time:                        04:12:20   Log-Likelihood:                 40.010\n",
            "No. Observations:                   9   AIC:                            -76.02\n",
            "Df Residuals:                       7   BIC:                            -75.63\n",
            "Df Model:                           1                                         \n",
            "Covariance Type:            nonrobust                                         \n",
            "==============================================================================\n",
            "                 coef    std err          t      P>|t|      [0.025      0.975]\n",
            "------------------------------------------------------------------------------\n",
            "const         -0.0006      0.001     -0.547      0.601      -0.003       0.002\n",
            "gap           -0.0027      0.001     -1.884      0.102      -0.006       0.001\n",
            "==============================================================================\n",
            "Omnibus:                       11.267   Durbin-Watson:                   1.769\n",
            "Prob(Omnibus):                  0.004   Jarque-Bera (JB):                4.526\n",
            "Skew:                          -1.571   Prob(JB):                        0.104\n",
            "Kurtosis:                       4.483   Cond. No.                         1.42\n",
            "==============================================================================\n",
            "\n",
            "Notes:\n",
            "[1] Standard Errors assume that the covariance matrix of the errors is correctly specified.\n",
            "\n",
            "α = -0.0006\n",
            "β = -0.0027\n"
          ]
        }
      ]
    }
  ]
}